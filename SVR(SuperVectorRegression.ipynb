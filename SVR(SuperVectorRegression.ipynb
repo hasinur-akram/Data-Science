{
 "cells": [
  {
   "cell_type": "code",
   "execution_count": null,
   "metadata": {},
   "outputs": [],
   "source": [
    "import numpy as np\n",
    "import pandas as pd\n",
    "import seaborn as sns\n",
    "import matplotlib.pyplot as plt\n",
    "import random\n",
    "random.seed(0)\n"
   ]
  },
  {
   "cell_type": "markdown",
   "metadata": {},
   "source": [
    "# Data Gathering"
   ]
  },
  {
   "cell_type": "code",
   "execution_count": null,
   "metadata": {},
   "outputs": [],
   "source": [
    "data = pd.read_csv(\"FuelConsumption.csv\")\n",
    "data.head()"
   ]
  },
  {
   "cell_type": "code",
   "execution_count": null,
   "metadata": {},
   "outputs": [],
   "source": []
  },
  {
   "cell_type": "markdown",
   "metadata": {},
   "source": [
    "# Data Pre-Processing"
   ]
  },
  {
   "cell_type": "code",
   "execution_count": null,
   "metadata": {},
   "outputs": [],
   "source": [
    "data.drop(columns=['MODELYEAR','MODEL','VEHICLECLASS','MAKE','TRANSMISSION','FUELCONSUMPTION_COMB_MPG'], inplace=True)\n",
    "data.head()"
   ]
  },
  {
   "cell_type": "code",
   "execution_count": null,
   "metadata": {},
   "outputs": [],
   "source": [
    "data[[\"FUELTYPE\"]] = data[[\"FUELTYPE\"]].replace({\"X\":1, \"Z\":2, \"E\":3, \"D\":4})\n",
    "data.sort_values(by=['FUELCONSUMPTION_COMB'], inplace=True)\n",
    "data.head()"
   ]
  },
  {
   "cell_type": "markdown",
   "metadata": {},
   "source": [
    "# Split Data"
   ]
  },
  {
   "cell_type": "code",
   "execution_count": null,
   "metadata": {},
   "outputs": [],
   "source": [
    "from sklearn.model_selection import train_test_split\n",
    "\n",
    "X = data[['ENGINESIZE','FUELCONSUMPTION_COMB']]\n",
    "Y = data[['CO2EMISSIONS']]\n",
    "\n",
    "xtrain, xtest, ytrain, ytest = train_test_split(X, Y, test_size=0.2, random_state=1)"
   ]
  },
  {
   "cell_type": "markdown",
   "metadata": {},
   "source": [
    "# Model Init"
   ]
  },
  {
   "cell_type": "code",
   "execution_count": null,
   "metadata": {},
   "outputs": [],
   "source": [
    "from sklearn.svm import SVR\n",
    "\n",
    "svrR = SVR()\n",
    "svrL = SVR(kernel=\"linear\")\n",
    "svrP = SVR(kernel='poly')"
   ]
  },
  {
   "cell_type": "markdown",
   "metadata": {},
   "source": [
    "# Training Model"
   ]
  },
  {
   "cell_type": "code",
   "execution_count": null,
   "metadata": {},
   "outputs": [],
   "source": [
    "svrR.fit(xtrain, ytrain)\n",
    "svrL.fit(xtrain, ytrain)\n",
    "svrP.fit(xtrain, ytrain)"
   ]
  },
  {
   "cell_type": "markdown",
   "metadata": {},
   "source": [
    "# Test Model"
   ]
  },
  {
   "cell_type": "code",
   "execution_count": null,
   "metadata": {},
   "outputs": [],
   "source": [
    "yhatR = svrR.predict(xtest)\n",
    "yhatL = svrL.predict(xtest)\n",
    "yhatP = svrP.predict(xtest)"
   ]
  },
  {
   "cell_type": "markdown",
   "metadata": {},
   "source": [
    "# Model Evaluation"
   ]
  },
  {
   "cell_type": "code",
   "execution_count": null,
   "metadata": {},
   "outputs": [],
   "source": [
    "from sklearn.metrics import mean_squared_error, mean_absolute_percentage_error, r2_score\n",
    "\n",
    "print(\"=================== RBF  ===========================\")\n",
    "print(\"MAE: \" ,100 - mean_absolute_percentage_error(yhatR, ytest)*100)\n",
    "print(\"MSE: \", mean_squared_error(yhatR, ytest))\n",
    "print(\"R2 Score: \", r2_score(yhatR, ytest))\n",
    "print(\"=================== Linear  ===========================\")\n",
    "print(\"MAE: \" ,100 - mean_absolute_percentage_error(yhatL, ytest)*100)\n",
    "print(\"MSE: \", mean_squared_error(yhatL, ytest))\n",
    "print(\"R2 Score: \", r2_score(yhatL, ytest))\n",
    "print(\"=================== Polynomial  ===========================\")\n",
    "print(\"MAE: \" ,100 - mean_absolute_percentage_error(yhatP, ytest)*100)\n",
    "print(\"MSE: \", mean_squared_error(yhatP, ytest))\n",
    "print(\"R2 Score: \", r2_score(yhatP, ytest))"
   ]
  },
  {
   "cell_type": "markdown",
   "metadata": {},
   "source": [
    "# Hyper Parameter Tuning"
   ]
  },
  {
   "cell_type": "code",
   "execution_count": null,
   "metadata": {},
   "outputs": [],
   "source": [
    "from sklearn.svm import SVR\n",
    "\n",
    "svrR = SVR()\n",
    "svrL = SVR(kernel=\"linear\")\n",
    "svrP = SVR(kernel='poly', degree=1)\n",
    "\n",
    "svrR.fit(xtrain, ytrain)\n",
    "svrL.fit(xtrain, ytrain)\n",
    "svrP.fit(xtrain, ytrain)\n",
    "\n",
    "yhatR = svrR.predict(xtest)\n",
    "yhatL = svrL.predict(xtest)\n",
    "yhatP = svrP.predict(xtest)\n",
    "\n",
    "print(\"=================== RBF  ===========================\")\n",
    "print(\"MAE: \" ,100 - mean_absolute_percentage_error(yhatR, ytest)*100)\n",
    "print(\"MSE: \", mean_squared_error(yhatR, ytest))\n",
    "print(\"R2 Score: \", r2_score(yhatR, ytest))\n",
    "print(\"=================== Linear  ===========================\")\n",
    "print(\"MAE: \" ,100 - mean_absolute_percentage_error(yhatL, ytest)*100)\n",
    "print(\"MSE: \", mean_squared_error(yhatL, ytest))\n",
    "print(\"R2 Score: \", r2_score(yhatL, ytest))\n",
    "print(\"=================== Polynomial  ===========================\")\n",
    "print(\"MAE: \" ,100 - mean_absolute_percentage_error(yhatP, ytest)*100)\n",
    "print(\"MSE: \", mean_squared_error(yhatP, ytest))\n",
    "print(\"R2 Score: \", r2_score(yhatP, ytest))"
   ]
  },
  {
   "cell_type": "markdown",
   "metadata": {},
   "source": [
    "# Model(SVR) Analyssis"
   ]
  },
  {
   "cell_type": "code",
   "execution_count": null,
   "metadata": {},
   "outputs": [],
   "source": [
    "print(X[['ENGINESIZE']].values.min())\n",
    "print(X[['ENGINESIZE']].values.max())"
   ]
  },
  {
   "cell_type": "code",
   "execution_count": null,
   "metadata": {},
   "outputs": [],
   "source": [
    "print(X[['FUELCONSUMPTION_COMB']].values.min())\n",
    "print(X[['FUELCONSUMPTION_COMB']].values.max())"
   ]
  },
  {
   "cell_type": "code",
   "execution_count": null,
   "metadata": {},
   "outputs": [],
   "source": [
    "svrR = SVR()\n",
    "svrL = SVR(kernel='linear')\n",
    "svrP = SVR(kernel='poly')\n",
    "\n",
    "svrR.fit(xtrain[['ENGINESIZE']], ytrain.values.ravel())\n",
    "svrL.fit(xtrain[['ENGINESIZE']], ytrain.values.ravel())\n",
    "svrP.fit(xtrain[['ENGINESIZE']], ytrain.values.ravel())\n",
    "\n",
    "yhatR = svrR.predict(xtest[['ENGINESIZE']])\n",
    "yhatL = svrL.predict(xtest[['ENGINESIZE']])\n",
    "yhatP = svrP.predict(xtest[['ENGINESIZE']])\n",
    "\n",
    "lineE = np.linspace(1,8.4, 500).reshape(-1,1)\n",
    "lineF = np.linspace(4.7,25.8, 500).reshape(-1,1)\n",
    "feature = pd.DataFrame(\n",
    "    {\n",
    "        \"E\": lineE[0],\n",
    "        \"F\": lineF[0]\n",
    "    },\n",
    "    index=list(range(500))\n",
    ")\n",
    "\n",
    "fig, axes = plt.subplots(1,1, figsize=(10,6))\n",
    "axes.scatter(X[['ENGINESIZE']].values, Y.values, c='hotpink', label='Data')\n",
    "axes.plot(lineE, svrL.predict(lineE), c='darkorange', label='Linear Prediction', linewidth=4)\n",
    "axes.plot(lineE, svrR.predict(lineE), c='purple', label='RBF Prediction',linewidth=4)\n",
    "axes.plot(lineE, svrP.predict(lineE), c='brown', label='Polynomial Prediction', linewidth=4)\n",
    "axes.legend()\n",
    "plt.show()"
   ]
  },
  {
   "cell_type": "markdown",
   "metadata": {},
   "source": [
    "# Hyper Parameter Tuning"
   ]
  },
  {
   "cell_type": "code",
   "execution_count": null,
   "metadata": {},
   "outputs": [],
   "source": [
    "## GridSearchCv\n",
    "from sklearn.model_selection import GridSearchCV\n",
    "svrL = SVR(kernel='linear')\n",
    "grid = GridSearchCV(\n",
    "    svrL,\n",
    "    param_grid={\n",
    "        'C':[1.1,5.4,160,180,200,1000],\n",
    "        'epsilon': [0.0003, 0.007, 0.0109, 0.019, 0.14, 0.05, 8, 0.2, 3, 7,11,13],\n",
    "        \"gamma\":[\"auto\",\"scale\",0.1]\n",
    "    },\n",
    "    scoring=\"neg_mean_squared_error\",\n",
    "    refit=True,\n",
    "    verbose=1,\n",
    "    cv=5\n",
    ")\n",
    "\n",
    "# Fit\n",
    "grid.fit(xtrain[['ENGINESIZE']], ytrain.values.ravel())\n",
    "\n",
    "\n",
    "# get best hyperparameter\n",
    "grid.best_params_"
   ]
  },
  {
   "cell_type": "code",
   "execution_count": null,
   "metadata": {},
   "outputs": [],
   "source": [
    "svrR = SVR(C=160, epsilon=13, gamma='auto')\n",
    "svrL = SVR(kernel='linear', C=160, epsilon=13, gamma='auto')\n",
    "svrP = SVR(kernel='poly',C=160, epsilon=13, gamma='auto')\n",
    "\n",
    "svrR.fit(xtrain[['ENGINESIZE']], ytrain.values.ravel())\n",
    "svrL.fit(xtrain[['ENGINESIZE']], ytrain.values.ravel())\n",
    "svrP.fit(xtrain[['ENGINESIZE']], ytrain.values.ravel())\n",
    "\n",
    "yhatR = svrR.predict(xtest[['ENGINESIZE']])\n",
    "yhatL = svrL.predict(xtest[['ENGINESIZE']])\n",
    "yhatP = svrP.predict(xtest[['ENGINESIZE']])\n",
    "\n",
    "lineE = np.linspace(1,8.4, 500).reshape(-1,1)\n",
    "lineF = np.linspace(4.7,25.8, 500).reshape(-1,1)\n",
    "feature = pd.DataFrame(\n",
    "    {\n",
    "        \"E\": lineE[0],\n",
    "        \"F\": lineF[0]\n",
    "    },\n",
    "    index=list(range(500))\n",
    ")\n",
    "\n",
    "fig, axes = plt.subplots(1,1, figsize=(10,6))\n",
    "axes.scatter(X[['ENGINESIZE']].values, Y.values, c='hotpink', label='Data')\n",
    "axes.plot(lineE, svrL.predict(lineE), c='darkorange', label='Linear Prediction', linewidth=4)\n",
    "axes.plot(lineE, svrR.predict(lineE), c='purple', label='RBF Prediction',linewidth=4)\n",
    "axes.plot(lineE, svrP.predict(lineE), c='brown', label='Polynomial Prediction', linewidth=4)\n",
    "axes.legend()\n",
    "plt.show()"
   ]
  }
 ],
 "metadata": {
  "interpreter": {
   "hash": "9aaa1ab1202118063e00d2005169fdaf25a41351579761e07335c51f4a55e7ee"
  },
  "kernelspec": {
   "display_name": "Python 3.9.7 64-bit",
   "name": "python3"
  },
  "language_info": {
   "codemirror_mode": {
    "name": "ipython",
    "version": 3
   },
   "file_extension": ".py",
   "mimetype": "text/x-python",
   "name": "python",
   "nbconvert_exporter": "python",
   "pygments_lexer": "ipython3",
   "version": "3.9.7"
  },
  "orig_nbformat": 4
 },
 "nbformat": 4,
 "nbformat_minor": 2
}
